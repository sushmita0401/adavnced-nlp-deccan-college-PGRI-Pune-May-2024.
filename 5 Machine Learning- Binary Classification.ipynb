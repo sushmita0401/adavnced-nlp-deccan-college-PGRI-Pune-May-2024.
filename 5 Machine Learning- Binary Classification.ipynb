{
 "cells": [
  {
   "cell_type": "markdown",
   "id": "49ee2ec3-e9e0-4593-8288-827584e416ee",
   "metadata": {},
   "source": [
    "# Sushmita Pal\n",
    "## Enrolment id- 0017"
   ]
  },
  {
   "cell_type": "markdown",
   "id": "dc6ac406-7b44-407f-91c6-0cecc841d791",
   "metadata": {},
   "source": [
    "#### Dataset"
   ]
  },
  {
   "cell_type": "code",
   "execution_count": 3,
   "id": "c29901d8-49e4-4e7a-a485-f83fc6b1f66d",
   "metadata": {},
   "outputs": [],
   "source": [
    "# Name: news_data.csv, sample_news.txt\n",
    "# Location: https://mitu.co.in/dataset"
   ]
  },
  {
   "cell_type": "markdown",
   "id": "e62477c1-8859-4306-ad2f-c2572ea17629",
   "metadata": {},
   "source": [
    "#### Download the dataset and save in your current working directory"
   ]
  },
  {
   "cell_type": "code",
   "execution_count": 2,
   "id": "dec0784d-c898-43a8-ba49-2cf2282b1824",
   "metadata": {},
   "outputs": [
    {
     "data": {
      "text/plain": [
       "'C:\\\\Users\\\\spark'"
      ]
     },
     "execution_count": 2,
     "metadata": {},
     "output_type": "execute_result"
    }
   ],
   "source": [
    "import os\n",
    "os.getcwd()"
   ]
  },
  {
   "cell_type": "code",
   "execution_count": 3,
   "id": "e4efee5f-1902-4fb7-ab0e-da2d14acbceb",
   "metadata": {},
   "outputs": [
    {
     "data": {
      "text/plain": [
       "['.anaconda',\n",
       " '.cache',\n",
       " '.conda',\n",
       " '.condarc',\n",
       " '.continuum',\n",
       " '.ipynb_checkpoints',\n",
       " '.ipython',\n",
       " '.jupyter',\n",
       " '.keras',\n",
       " '.matplotlib',\n",
       " '.virtual_documents',\n",
       " '1 Information Extraction.ipynb',\n",
       " '10Data Analysis using Pandas.ipynb',\n",
       " '11 Tokenization.ipynb',\n",
       " '12 Web Scarpping.ipynb',\n",
       " '13 Stemming.ipynb',\n",
       " '14 Lemmatization .ipynb',\n",
       " '15 POS Tagging.ipynb',\n",
       " '16 Indian Language POS Tagging .ipynb',\n",
       " '17 Stopwords.ipynb',\n",
       " '18 Sample Application.ipynb',\n",
       " '19 Synonyms and Antonyms.ipynb',\n",
       " '2 Decision Making and looping.ipynb',\n",
       " '2 Text Summarization.ipynb',\n",
       " '20 Morphological Analysis.ipynb',\n",
       " '23 Computational Linguistics.ipynb',\n",
       " '24 Text to Speech Conversion.ipynb',\n",
       " '25 Speech to text Conversion.ipynb',\n",
       " '26 Grammar Checking.ipynb',\n",
       " '3 Data Structures.ipynb',\n",
       " '3 Word Sense Disambiguation.ipynb',\n",
       " '4 Data Preperation .ipynb',\n",
       " '4 Functions.ipynb',\n",
       " '5 Machine Learning- Binary Classification.ipynb',\n",
       " '5 Modules.ipynb',\n",
       " '6 Exception Handling.ipynb',\n",
       " '6 Machine Learning - Multiclass Classification.ipynb',\n",
       " '7 File Handling.ipynb',\n",
       " '7 Text Clustering.ipynb',\n",
       " '8 Classes and Objects.ipynb',\n",
       " '9 Arrays.ipynb',\n",
       " 'Anaconda',\n",
       " 'anaconda3',\n",
       " 'AppData',\n",
       " 'Application Data',\n",
       " 'Assignment 1',\n",
       " 'Assignment 3.ipynb',\n",
       " 'Assignment 4.ipynb',\n",
       " 'Assignment(1).ipynb',\n",
       " 'Assignment(2).ipynb',\n",
       " 'Assignment(3).ipynb',\n",
       " 'Assignment2.ipynb',\n",
       " 'Contacts',\n",
       " 'Cookies',\n",
       " 'course.pdf',\n",
       " 'course.txt',\n",
       " 'Crystal clear.ipynb',\n",
       " 'Documents',\n",
       " 'Downloads',\n",
       " 'dunk.txt',\n",
       " 'Favorites',\n",
       " 'file.txt',\n",
       " 'file1.txt',\n",
       " 'headlines.csv',\n",
       " 'IntelGraphicsProfiles',\n",
       " 'Links',\n",
       " 'Local Settings',\n",
       " 'Machine-Learning-and-Natural-Language-Processing.docx.docx',\n",
       " 'mount.txt',\n",
       " 'Music',\n",
       " 'my data.txt',\n",
       " 'My Documents',\n",
       " 'myvoice.mp3',\n",
       " 'NetHood',\n",
       " 'news_data.csv',\n",
       " 'nlp(1).pdf',\n",
       " 'nlp.pdf',\n",
       " 'nlp.txt',\n",
       " 'NTUSER.DAT',\n",
       " 'ntuser.dat.LOG1',\n",
       " 'ntuser.dat.LOG2',\n",
       " 'NTUSER.DAT{4a85e2cb-d53b-11ee-a287-d0abd5b87193}.TM.blf',\n",
       " 'NTUSER.DAT{4a85e2cb-d53b-11ee-a287-d0abd5b87193}.TMContainer00000000000000000001.regtrans-ms',\n",
       " 'NTUSER.DAT{4a85e2cb-d53b-11ee-a287-d0abd5b87193}.TMContainer00000000000000000002.regtrans-ms',\n",
       " 'ntuser.ini',\n",
       " 'OneDrive',\n",
       " 'output.csv',\n",
       " 'Pandas (practice).ipynb',\n",
       " 'Practise.ipynb',\n",
       " 'print.ipynb',\n",
       " 'PrintHood',\n",
       " 'Pune.txt',\n",
       " 'Python Basics.ipynb',\n",
       " 'Recent',\n",
       " 'sample.csv',\n",
       " 'sample_news.txt',\n",
       " 'Sample_resume.txt',\n",
       " 'Saved Games',\n",
       " 'Searches',\n",
       " 'SendTo',\n",
       " 'SMSSpamCollection',\n",
       " 'spam_messages.csv',\n",
       " 'SPP.docx',\n",
       " 'Start Menu',\n",
       " 'temp.txt',\n",
       " 'temp1.txt',\n",
       " 'Templates',\n",
       " 'Test.txt',\n",
       " 'ugc-net-research-aptitude-questions.pdf',\n",
       " 'Untitled.ipynb',\n",
       " 'untitled.txt',\n",
       " 'Untitled1.ipynb',\n",
       " 'Untitled2.ipynb',\n",
       " 'Untitled3.ipynb',\n",
       " 'UpdatedResumeDataSet.csv',\n",
       " 'Videos']"
      ]
     },
     "execution_count": 3,
     "metadata": {},
     "output_type": "execute_result"
    }
   ],
   "source": [
    "os.listdir(os.getcwd())      # just to check"
   ]
  },
  {
   "cell_type": "markdown",
   "id": "ad519086-07a8-4572-8978-dbc6598aca81",
   "metadata": {},
   "source": [
    "#### Import the libraries"
   ]
  },
  {
   "cell_type": "code",
   "execution_count": 4,
   "id": "cb15cc88-d307-4e79-a3c5-5e81353af4ff",
   "metadata": {},
   "outputs": [],
   "source": [
    "import pandas as pd\n",
    "import seaborn as sns\n",
    "import matplotlib.pyplot as plt"
   ]
  },
  {
   "cell_type": "markdown",
   "id": "24c0fb48-e77f-49ff-b47b-8cadd9f27623",
   "metadata": {},
   "source": [
    "##### Read the dataset"
   ]
  },
  {
   "cell_type": "code",
   "execution_count": 5,
   "id": "a29984f6-ea9a-4f41-93e5-26e095d34ef5",
   "metadata": {},
   "outputs": [],
   "source": [
    "df = pd.read_csv('news_data.csv')"
   ]
  },
  {
   "cell_type": "code",
   "execution_count": 6,
   "id": "6507f7a8-a941-4731-b297-432984ce5e6a",
   "metadata": {},
   "outputs": [
    {
     "data": {
      "text/plain": [
       "(9900, 2)"
      ]
     },
     "execution_count": 6,
     "metadata": {},
     "output_type": "execute_result"
    }
   ],
   "source": [
    "df.shape"
   ]
  },
  {
   "cell_type": "code",
   "execution_count": 7,
   "id": "249b3e5b-e97c-41fe-8d01-bf2db78bedb0",
   "metadata": {},
   "outputs": [
    {
     "data": {
      "text/plain": [
       "Index(['Text', 'label'], dtype='object')"
      ]
     },
     "execution_count": 7,
     "metadata": {},
     "output_type": "execute_result"
    }
   ],
   "source": [
    "df.columns # text is input data, label is a output data df is dataframe"
   ]
  },
  {
   "cell_type": "markdown",
   "id": "85723b45-a709-4b54-94a8-516109549fdb",
   "metadata": {},
   "source": [
    "### Seperate the input and output data"
   ]
  },
  {
   "cell_type": "code",
   "execution_count": 8,
   "id": "18deae69-abe8-4938-8f13-eeca7371644e",
   "metadata": {},
   "outputs": [],
   "source": [
    "features = df['Text']  # input data\n",
    "label = df['label']    # output data"
   ]
  },
  {
   "cell_type": "code",
   "execution_count": 9,
   "id": "53521a71-d84d-4a10-83ae-d8468d666f75",
   "metadata": {},
   "outputs": [
    {
     "data": {
      "text/plain": [
       "0     Top Trump Surrogate BRUTALLY Stabs Him In The...\n",
       "1    U.S. conservative leader optimistic of common ...\n",
       "2    Trump proposes U.S. tax overhaul, stirs concer...\n",
       "3     Court Forces Ohio To Allow Millions Of Illega...\n",
       "4    Democrats say Trump agrees to work on immigrat...\n",
       "Name: Text, dtype: object"
      ]
     },
     "execution_count": 9,
     "metadata": {},
     "output_type": "execute_result"
    }
   ],
   "source": [
    "features.head()"
   ]
  },
  {
   "cell_type": "code",
   "execution_count": 10,
   "id": "c488a731-06d2-45bb-befb-40f0d5d34026",
   "metadata": {},
   "outputs": [
    {
     "data": {
      "text/plain": [
       "0       Fake\n",
       "1       Real\n",
       "2       Real\n",
       "3       Fake\n",
       "4       Real\n",
       "        ... \n",
       "9895    Fake\n",
       "9896    Real\n",
       "9897    Real\n",
       "9898    Fake\n",
       "9899    Fake\n",
       "Name: label, Length: 9900, dtype: object"
      ]
     },
     "execution_count": 10,
     "metadata": {},
     "output_type": "execute_result"
    }
   ],
   "source": [
    "label"
   ]
  },
  {
   "cell_type": "code",
   "execution_count": 11,
   "id": "a5da88df-68ba-457a-b605-910467f48a4e",
   "metadata": {},
   "outputs": [
    {
     "data": {
      "text/plain": [
       "{'Fake', 'Real'}"
      ]
     },
     "execution_count": 11,
     "metadata": {},
     "output_type": "execute_result"
    }
   ],
   "source": [
    "set(label)"
   ]
  },
  {
   "cell_type": "code",
   "execution_count": 12,
   "id": "ed0f9b8c-b081-46b7-8e06-8e0fffcfb8f3",
   "metadata": {},
   "outputs": [
    {
     "data": {
      "text/plain": [
       "<Axes: xlabel='label', ylabel='count'>"
      ]
     },
     "execution_count": 12,
     "metadata": {},
     "output_type": "execute_result"
    },
    {
     "data": {
      "image/png": "[encoded data removed]",
      "text/plain": [
       "<Figure size 640x480 with 1 Axes>"
      ]
     },
     "metadata": {},
     "output_type": "display_data"
    }
   ],
   "source": [
    "sns.countplot(x = label)"
   ]
  },
  {
   "cell_type": "code",
   "execution_count": 13,
   "id": "1f1fb01e-5d8f-4200-a24d-9691b809535a",
   "metadata": {},
   "outputs": [
    {
     "data": {
      "text/plain": [
       "label\n",
       "Fake    5000\n",
       "Real    4900\n",
       "Name: count, dtype: int64"
      ]
     },
     "execution_count": 13,
     "metadata": {},
     "output_type": "execute_result"
    }
   ],
   "source": [
    "label.value_counts()"
   ]
  },
  {
   "cell_type": "code",
   "execution_count": 14,
   "id": "64b03e4d-a200-4ce8-8c57-c21d53a6abf3",
   "metadata": {},
   "outputs": [
    {
     "data": {
      "image/png": "[encoded data removed]",
      "text/plain": [
       "<Figure size 640x480 with 1 Axes>"
      ]
     },
     "metadata": {},
     "output_type": "display_data"
    }
   ],
   "source": [
    "plt.pie(label.value_counts(), labels = label.value_counts().index, autopct= '%2.2f%%');"
   ]
  },
  {
   "cell_type": "markdown",
   "id": "3ce44c7e-84d3-4c40-acbd-d23ad810f1e8",
   "metadata": {},
   "source": [
    "### Data Preparation"
   ]
  },
  {
   "cell_type": "markdown",
   "id": "333a86d9-5f0e-4fbc-8859-114e007dbe66",
   "metadata": {},
   "source": [
    "#### Data Cleaning"
   ]
  },
  {
   "cell_type": "code",
   "execution_count": 15,
   "id": "d661838f-a3c0-4bc0-8c1e-88ee77e7abb7",
   "metadata": {},
   "outputs": [],
   "source": [
    "from nltk.tokenize import word_tokenize\n",
    "from nltk.corpus import stopwords\n",
    "from nltk.stem import PorterStemmer"
   ]
  },
  {
   "cell_type": "code",
   "execution_count": 16,
   "id": "e1619d51-7db9-448a-8b8f-5b241b62f037",
   "metadata": {},
   "outputs": [],
   "source": [
    "# for demonstration\n",
    "sent = ' Hello friends! How are you? I like Python Programming.'"
   ]
  },
  {
   "cell_type": "code",
   "execution_count": 17,
   "id": "953de63d-2dc6-44b3-8bb4-4e1061d7aef5",
   "metadata": {},
   "outputs": [],
   "source": [
    "# Tokenize\n",
    "tokens1 = word_tokenize(sent)"
   ]
  },
  {
   "cell_type": "code",
   "execution_count": 18,
   "id": "9ab85842-10b3-422f-be86-f18b32d45ac7",
   "metadata": {},
   "outputs": [
    {
     "data": {
      "text/plain": [
       "['Hello',\n",
       " 'friends',\n",
       " '!',\n",
       " 'How',\n",
       " 'are',\n",
       " 'you',\n",
       " '?',\n",
       " 'I',\n",
       " 'like',\n",
       " 'Python',\n",
       " 'Programming',\n",
       " '.']"
      ]
     },
     "execution_count": 18,
     "metadata": {},
     "output_type": "execute_result"
    }
   ],
   "source": [
    "tokens1"
   ]
  },
  {
   "cell_type": "code",
   "execution_count": 19,
   "id": "c1a91667-83e3-46ea-8675-e125de9c9688",
   "metadata": {},
   "outputs": [],
   "source": [
    "# remove punctuations\n",
    "tokens2 = [x for x in tokens1 if x.isalpha()]"
   ]
  },
  {
   "cell_type": "code",
   "execution_count": 20,
   "id": "7efb8190-a8ee-459c-9f35-9a3a34b9b44c",
   "metadata": {},
   "outputs": [
    {
     "data": {
      "text/plain": [
       "['Hello', 'friends', 'How', 'are', 'you', 'I', 'like', 'Python', 'Programming']"
      ]
     },
     "execution_count": 20,
     "metadata": {},
     "output_type": "execute_result"
    }
   ],
   "source": [
    "tokens2"
   ]
  },
  {
   "cell_type": "code",
   "execution_count": 21,
   "id": "67ed2599-aff2-4066-8a85-fb345636578d",
   "metadata": {},
   "outputs": [],
   "source": [
    "# remove stopwords\n",
    "swords = stopwords.words('english')"
   ]
  },
  {
   "cell_type": "code",
   "execution_count": 22,
   "id": "8552a7af-fbb3-4534-983a-55e477862dea",
   "metadata": {
    "scrolled": true
   },
   "outputs": [
    {
     "data": {
      "text/plain": [
       "['i',\n",
       " 'me',\n",
       " 'my',\n",
       " 'myself',\n",
       " 'we',\n",
       " 'our',\n",
       " 'ours',\n",
       " 'ourselves',\n",
       " 'you',\n",
       " \"you're\",\n",
       " \"you've\",\n",
       " \"you'll\",\n",
       " \"you'd\",\n",
       " 'your',\n",
       " 'yours',\n",
       " 'yourself',\n",
       " 'yourselves',\n",
       " 'he',\n",
       " 'him',\n",
       " 'his',\n",
       " 'himself',\n",
       " 'she',\n",
       " \"she's\",\n",
       " 'her',\n",
       " 'hers',\n",
       " 'herself',\n",
       " 'it',\n",
       " \"it's\",\n",
       " 'its',\n",
       " 'itself',\n",
       " 'they',\n",
       " 'them',\n",
       " 'their',\n",
       " 'theirs',\n",
       " 'themselves',\n",
       " 'what',\n",
       " 'which',\n",
       " 'who',\n",
       " 'whom',\n",
       " 'this',\n",
       " 'that',\n",
       " \"that'll\",\n",
       " 'these',\n",
       " 'those',\n",
       " 'am',\n",
       " 'is',\n",
       " 'are',\n",
       " 'was',\n",
       " 'were',\n",
       " 'be',\n",
       " 'been',\n",
       " 'being',\n",
       " 'have',\n",
       " 'has',\n",
       " 'had',\n",
       " 'having',\n",
       " 'do',\n",
       " 'does',\n",
       " 'did',\n",
       " 'doing',\n",
       " 'a',\n",
       " 'an',\n",
       " 'the',\n",
       " 'and',\n",
       " 'but',\n",
       " 'if',\n",
       " 'or',\n",
       " 'because',\n",
       " 'as',\n",
       " 'until',\n",
       " 'while',\n",
       " 'of',\n",
       " 'at',\n",
       " 'by',\n",
       " 'for',\n",
       " 'with',\n",
       " 'about',\n",
       " 'against',\n",
       " 'between',\n",
       " 'into',\n",
       " 'through',\n",
       " 'during',\n",
       " 'before',\n",
       " 'after',\n",
       " 'above',\n",
       " 'below',\n",
       " 'to',\n",
       " 'from',\n",
       " 'up',\n",
       " 'down',\n",
       " 'in',\n",
       " 'out',\n",
       " 'on',\n",
       " 'off',\n",
       " 'over',\n",
       " 'under',\n",
       " 'again',\n",
       " 'further',\n",
       " 'then',\n",
       " 'once',\n",
       " 'here',\n",
       " 'there',\n",
       " 'when',\n",
       " 'where',\n",
       " 'why',\n",
       " 'how',\n",
       " 'all',\n",
       " 'any',\n",
       " 'both',\n",
       " 'each',\n",
       " 'few',\n",
       " 'more',\n",
       " 'most',\n",
       " 'other',\n",
       " 'some',\n",
       " 'such',\n",
       " 'no',\n",
       " 'nor',\n",
       " 'not',\n",
       " 'only',\n",
       " 'own',\n",
       " 'same',\n",
       " 'so',\n",
       " 'than',\n",
       " 'too',\n",
       " 'very',\n",
       " 's',\n",
       " 't',\n",
       " 'can',\n",
       " 'will',\n",
       " 'just',\n",
       " 'don',\n",
       " \"don't\",\n",
       " 'should',\n",
       " \"should've\",\n",
       " 'now',\n",
       " 'd',\n",
       " 'll',\n",
       " 'm',\n",
       " 'o',\n",
       " 're',\n",
       " 've',\n",
       " 'y',\n",
       " 'ain',\n",
       " 'aren',\n",
       " \"aren't\",\n",
       " 'couldn',\n",
       " \"couldn't\",\n",
       " 'didn',\n",
       " \"didn't\",\n",
       " 'doesn',\n",
       " \"doesn't\",\n",
       " 'hadn',\n",
       " \"hadn't\",\n",
       " 'hasn',\n",
       " \"hasn't\",\n",
       " 'haven',\n",
       " \"haven't\",\n",
       " 'isn',\n",
       " \"isn't\",\n",
       " 'ma',\n",
       " 'mightn',\n",
       " \"mightn't\",\n",
       " 'mustn',\n",
       " \"mustn't\",\n",
       " 'needn',\n",
       " \"needn't\",\n",
       " 'shan',\n",
       " \"shan't\",\n",
       " 'shouldn',\n",
       " \"shouldn't\",\n",
       " 'wasn',\n",
       " \"wasn't\",\n",
       " 'weren',\n",
       " \"weren't\",\n",
       " 'won',\n",
       " \"won't\",\n",
       " 'wouldn',\n",
       " \"wouldn't\"]"
      ]
     },
     "execution_count": 22,
     "metadata": {},
     "output_type": "execute_result"
    }
   ],
   "source": [
    "swords  # if these in list(tokens) then dont print"
   ]
  },
  {
   "cell_type": "code",
   "execution_count": 23,
   "id": "ff28cc69-aadc-4b57-a070-316761e961ef",
   "metadata": {},
   "outputs": [],
   "source": [
    "tokens3 = [x for x in tokens2 if x not in swords]"
   ]
  },
  {
   "cell_type": "code",
   "execution_count": 24,
   "id": "c6a1742c-f349-49d6-b174-f3639cd8c4be",
   "metadata": {},
   "outputs": [
    {
     "data": {
      "text/plain": [
       "['Hello', 'friends', 'How', 'I', 'like', 'Python', 'Programming']"
      ]
     },
     "execution_count": 24,
     "metadata": {},
     "output_type": "execute_result"
    }
   ],
   "source": [
    "tokens3"
   ]
  },
  {
   "cell_type": "code",
   "execution_count": 25,
   "id": "521ba061-8535-4a53-8e3c-211b870faf2d",
   "metadata": {},
   "outputs": [],
   "source": [
    "# remove suffixes\n",
    "ps = PorterStemmer()"
   ]
  },
  {
   "cell_type": "code",
   "execution_count": 26,
   "id": "e97638ea-9f90-4ec1-8011-7496d34059b3",
   "metadata": {},
   "outputs": [],
   "source": [
    "tokens4 = [ps.stem(x) for x in tokens3]"
   ]
  },
  {
   "cell_type": "code",
   "execution_count": 27,
   "id": "65f5c9c2-268f-4db7-b610-bd2d7d4b5ee3",
   "metadata": {},
   "outputs": [
    {
     "data": {
      "text/plain": [
       "['hello', 'friend', 'how', 'i', 'like', 'python', 'program']"
      ]
     },
     "execution_count": 27,
     "metadata": {},
     "output_type": "execute_result"
    }
   ],
   "source": [
    "tokens4"
   ]
  },
  {
   "cell_type": "code",
   "execution_count": 28,
   "id": "a6969f12-331d-43f8-8ac8-dd9a44a52e83",
   "metadata": {},
   "outputs": [],
   "source": [
    "# define a function for text cleaning\n",
    "def clean_text (sent):\n",
    "    tokens1 = word_tokenize(sent)\n",
    "    tokens2 = [x.lower() for x in tokens1 if x.isalpha()]\n",
    "    tokens3 = [x for x in tokens2 if x not in swords]\n",
    "    tokens4 = [ps.stem(x) for x in tokens3]\n",
    "    return tokens4"
   ]
  },
  {
   "cell_type": "code",
   "execution_count": 29,
   "id": "f990e69d-010a-49b8-99c4-ecaacb3f699a",
   "metadata": {},
   "outputs": [
    {
     "data": {
      "text/plain": [
       "['hello', 'friend', 'like', 'python', 'program']"
      ]
     },
     "execution_count": 29,
     "metadata": {},
     "output_type": "execute_result"
    }
   ],
   "source": [
    "clean_text(sent)"
   ]
  },
  {
   "cell_type": "code",
   "execution_count": 30,
   "id": "1467838f-eef6-4880-8759-26f227fc224b",
   "metadata": {},
   "outputs": [],
   "source": [
    "new_sent = 'It was the expected result. They told the same on fields.'"
   ]
  },
  {
   "cell_type": "code",
   "execution_count": 31,
   "id": "e049dfce-1a38-4406-9b3c-957540c32e5d",
   "metadata": {},
   "outputs": [
    {
     "data": {
      "text/plain": [
       "['expect', 'result', 'told', 'field']"
      ]
     },
     "execution_count": 31,
     "metadata": {},
     "output_type": "execute_result"
    }
   ],
   "source": [
    "clean_text(new_sent)"
   ]
  },
  {
   "cell_type": "code",
   "execution_count": 32,
   "id": "77861eba-2784-47cf-8e01-69a2283ec007",
   "metadata": {},
   "outputs": [
    {
     "data": {
      "text/plain": [
       "0        Top Trump Surrogate BRUTALLY Stabs Him In The...\n",
       "1       U.S. conservative leader optimistic of common ...\n",
       "2       Trump proposes U.S. tax overhaul, stirs concer...\n",
       "3        Court Forces Ohio To Allow Millions Of Illega...\n",
       "4       Democrats say Trump agrees to work on immigrat...\n",
       "                              ...                        \n",
       "9895     Wikileaks Admits To Screwing Up IMMENSELY Wit...\n",
       "9896    Trump consults Republican senators on Fed chie...\n",
       "9897    Trump lawyers say judge lacks jurisdiction for...\n",
       "9898     WATCH: Right-Wing Pastor Falsely Credits Trum...\n",
       "9899     Sean Spicer HILARIOUSLY Branded As Chickensh*...\n",
       "Name: Text, Length: 9900, dtype: object"
      ]
     },
     "execution_count": 32,
     "metadata": {},
     "output_type": "execute_result"
    }
   ],
   "source": [
    "features"
   ]
  },
  {
   "cell_type": "code",
   "execution_count": 33,
   "id": "1e4818f5-c0a9-44f5-ab01-fa41346f772a",
   "metadata": {
    "scrolled": true
   },
   "outputs": [
    {
     "data": {
      "text/plain": [
       "['rank',\n",
       " 'dem',\n",
       " 'hous',\n",
       " 'russia',\n",
       " 'probe',\n",
       " 'explos',\n",
       " 'news',\n",
       " 'trump',\n",
       " 'run',\n",
       " 'scare',\n",
       " 'everybodi',\n",
       " 'still',\n",
       " 'believ',\n",
       " 'democraci',\n",
       " 'true',\n",
       " 'freedom',\n",
       " 'reel',\n",
       " 'fbi',\n",
       " 'director',\n",
       " 'jame',\n",
       " 'comey',\n",
       " 'fire',\n",
       " 'media',\n",
       " 'member',\n",
       " 'congress',\n",
       " 'frantic',\n",
       " 'work',\n",
       " 'get',\n",
       " 'deet',\n",
       " 'happen',\n",
       " 'adam',\n",
       " 'schiff',\n",
       " 'rank',\n",
       " 'member',\n",
       " 'hous',\n",
       " 'intellig',\n",
       " 'committe',\n",
       " 'conduct',\n",
       " 'investig',\n",
       " 'russia',\n",
       " 'drop',\n",
       " 'truth',\n",
       " 'bomb',\n",
       " 'comey',\n",
       " 'trump',\n",
       " 'would',\n",
       " 'wise',\n",
       " 'go',\n",
       " 'find',\n",
       " 'cave',\n",
       " 'hide',\n",
       " 'ask',\n",
       " 'cnn',\n",
       " 'whether',\n",
       " 'believ',\n",
       " 'think',\n",
       " 'someth',\n",
       " 'wors',\n",
       " 'brazen',\n",
       " 'interfer',\n",
       " 'crimin',\n",
       " 'investig',\n",
       " 'presid',\n",
       " 'call',\n",
       " 'whole',\n",
       " 'investig',\n",
       " 'fake',\n",
       " 'fbi',\n",
       " 'director',\n",
       " 'serious',\n",
       " 'look',\n",
       " 'whether',\n",
       " 'trump',\n",
       " 'associ',\n",
       " 'collud',\n",
       " 'russian',\n",
       " 'end',\n",
       " 'statement',\n",
       " 'cnn',\n",
       " 'particularli',\n",
       " 'jar',\n",
       " 'anybodi',\n",
       " 'familiar',\n",
       " 'histori',\n",
       " 'watch',\n",
       " 'adam',\n",
       " 'schiff',\n",
       " 'fire',\n",
       " 'fbi',\n",
       " 'director',\n",
       " 'jame',\n",
       " 'comey',\n",
       " 'brazen',\n",
       " 'interfer',\n",
       " 'crimin',\n",
       " 'investig',\n",
       " 'http',\n",
       " 'cnn',\n",
       " 'cnn',\n",
       " 'may',\n",
       " 'year',\n",
       " 'white',\n",
       " 'hous',\n",
       " 'tri',\n",
       " 'get',\n",
       " 'fbi',\n",
       " 'publicli',\n",
       " 'disput',\n",
       " 'stori',\n",
       " 'appear',\n",
       " 'new',\n",
       " 'york',\n",
       " 'time',\n",
       " 'contact',\n",
       " 'trump',\n",
       " 'associ',\n",
       " 'russian',\n",
       " 'actor',\n",
       " 'tri',\n",
       " 'bend',\n",
       " 'fbi',\n",
       " 'long',\n",
       " 'time',\n",
       " 'comey',\n",
       " 'lie',\n",
       " 'oath',\n",
       " 'end',\n",
       " 'russia',\n",
       " 'probe',\n",
       " 'trump',\n",
       " 'decid',\n",
       " 'fire',\n",
       " 'fact',\n",
       " 'jeff',\n",
       " 'session',\n",
       " 'actual',\n",
       " 'told',\n",
       " 'find',\n",
       " 'reason',\n",
       " 'fire',\n",
       " 'comey',\n",
       " 'work',\n",
       " 'least',\n",
       " 'week',\n",
       " 'trump',\n",
       " 'like',\n",
       " 'want',\n",
       " 'someon',\n",
       " 'posit',\n",
       " 'end',\n",
       " 'investig',\n",
       " 'discov',\n",
       " 'someth',\n",
       " 'realli',\n",
       " 'damn',\n",
       " 'want',\n",
       " 'trump',\n",
       " 'innoc',\n",
       " 'white',\n",
       " 'hous',\n",
       " 'look',\n",
       " 'reason',\n",
       " 'fire',\n",
       " 'comey',\n",
       " 'comey',\n",
       " 'may',\n",
       " 'even',\n",
       " 'fire',\n",
       " 'trump',\n",
       " 'probabl',\n",
       " 'would',\n",
       " 'done',\n",
       " 'took',\n",
       " 'offic',\n",
       " 'guis',\n",
       " 'get',\n",
       " 'fresh',\n",
       " 'start',\n",
       " 'schiff',\n",
       " 'said',\n",
       " 'cnn',\n",
       " 'behavior',\n",
       " 'innoc',\n",
       " 'imag',\n",
       " 'via',\n",
       " 'mark',\n",
       " 'imag']"
      ]
     },
     "execution_count": 33,
     "metadata": {},
     "output_type": "execute_result"
    }
   ],
   "source": [
    "clean_text(features[123])          # taking random feature "
   ]
  },
  {
   "cell_type": "markdown",
   "id": "26bfd43e-44ce-441e-832a-c38cc0f8c223",
   "metadata": {},
   "source": [
    "#### TF*IDF Vectorization"
   ]
  },
  {
   "cell_type": "code",
   "execution_count": 34,
   "id": "7632915e-a54b-4930-b026-0325ae6f9f22",
   "metadata": {},
   "outputs": [],
   "source": [
    "# import the class\n",
    "from sklearn.feature_extraction.text import TfidfVectorizer"
   ]
  },
  {
   "cell_type": "code",
   "execution_count": 35,
   "id": "f88acc41-6147-4b65-9d77-d1b7588c8e21",
   "metadata": {},
   "outputs": [],
   "source": [
    "# create the object\n",
    "tfidf = TfidfVectorizer(analyzer=clean_text)"
   ]
  },
  {
   "cell_type": "code",
   "execution_count": 36,
   "id": "8c805cd4-8681-4deb-a54f-c8bdf3f6b09f",
   "metadata": {},
   "outputs": [],
   "source": [
    "# so we are cleaning, vectorizing for each line"
   ]
  },
  {
   "cell_type": "code",
   "execution_count": 37,
   "id": "befa4af2-83fe-42ae-bcba-06617dfac076",
   "metadata": {},
   "outputs": [],
   "source": [
    "# perform the operation\n",
    "features_new = tfidf.fit_transform(features)"
   ]
  },
  {
   "cell_type": "code",
   "execution_count": 38,
   "id": "35ba8f5c-2432-4f19-80d5-5b9a1b301724",
   "metadata": {},
   "outputs": [
    {
     "data": {
      "text/plain": [
       "(9900, 33562)"
      ]
     },
     "execution_count": 38,
     "metadata": {},
     "output_type": "execute_result"
    }
   ],
   "source": [
    "features_new.shape"
   ]
  },
  {
   "cell_type": "code",
   "execution_count": 39,
   "id": "3193bedf-e47f-48cb-8f7a-91c3f32cfbcf",
   "metadata": {},
   "outputs": [
    {
     "data": {
      "text/plain": [
       "33562"
      ]
     },
     "execution_count": 39,
     "metadata": {},
     "output_type": "execute_result"
    }
   ],
   "source": [
    "len(tfidf.get_feature_names_out())"
   ]
  },
  {
   "cell_type": "markdown",
   "id": "632cc888-0f8e-4dc3-8ff5-6a9834df7d67",
   "metadata": {},
   "source": [
    "#### Cross Validation"
   ]
  },
  {
   "cell_type": "code",
   "execution_count": 40,
   "id": "4d231acb-3d85-40f8-970f-1b4ea2efc0b8",
   "metadata": {},
   "outputs": [],
   "source": [
    "# import the function\n",
    "from sklearn.model_selection import train_test_split"
   ]
  },
  {
   "cell_type": "code",
   "execution_count": 41,
   "id": "4b4a4bde-288a-4121-9e20-1dacb96e763f",
   "metadata": {},
   "outputs": [],
   "source": [
    "# perform the cross- validation\n",
    "x_train, x_test, y_train, y_test= train_test_split(features_new, label, random_state=0)"
   ]
  },
  {
   "cell_type": "code",
   "execution_count": 42,
   "id": "f3be63c0-d2fe-4fdb-9d77-5f67db20589e",
   "metadata": {},
   "outputs": [
    {
     "data": {
      "text/plain": [
       "(7425, 33562)"
      ]
     },
     "execution_count": 42,
     "metadata": {},
     "output_type": "execute_result"
    }
   ],
   "source": [
    "x_train.shape"
   ]
  },
  {
   "cell_type": "code",
   "execution_count": 43,
   "id": "d7856980-0a7b-45d4-9069-7053b5d5549c",
   "metadata": {},
   "outputs": [
    {
     "data": {
      "text/plain": [
       "(2475, 33562)"
      ]
     },
     "execution_count": 43,
     "metadata": {},
     "output_type": "execute_result"
    }
   ],
   "source": [
    "x_test.shape"
   ]
  },
  {
   "cell_type": "code",
   "execution_count": 44,
   "id": "c7823ffd-9ea2-4260-8545-720ed39a81b8",
   "metadata": {},
   "outputs": [
    {
     "data": {
      "text/plain": [
       "(7425,)"
      ]
     },
     "execution_count": 44,
     "metadata": {},
     "output_type": "execute_result"
    }
   ],
   "source": [
    "y_train.shape"
   ]
  },
  {
   "cell_type": "code",
   "execution_count": 45,
   "id": "9c4cd865-48ef-4572-8675-c5a0404864cd",
   "metadata": {},
   "outputs": [
    {
     "data": {
      "text/plain": [
       "(2475,)"
      ]
     },
     "execution_count": 45,
     "metadata": {},
     "output_type": "execute_result"
    }
   ],
   "source": [
    "y_test.shape"
   ]
  },
  {
   "cell_type": "code",
   "execution_count": 46,
   "id": "733c52a0-ae2f-40f0-bbdf-12af3d699194",
   "metadata": {},
   "outputs": [
    {
     "data": {
      "text/plain": [
       "<1x33562 sparse matrix of type '<class 'numpy.float64'>'\n",
       "\twith 176 stored elements in Compressed Sparse Row format>"
      ]
     },
     "execution_count": 46,
     "metadata": {},
     "output_type": "execute_result"
    }
   ],
   "source": [
    "x_train[0]  # input feature"
   ]
  },
  {
   "cell_type": "code",
   "execution_count": 47,
   "id": "e1d85d26-2434-41cd-85ee-541bc98225df",
   "metadata": {},
   "outputs": [
    {
     "data": {
      "text/plain": [
       "'Fake'"
      ]
     },
     "execution_count": 47,
     "metadata": {},
     "output_type": "execute_result"
    }
   ],
   "source": [
    "y_train[0]  # verctorized output"
   ]
  },
  {
   "cell_type": "markdown",
   "id": "4c84e3b8-8cc9-4bc9-95f1-63828711e12f",
   "metadata": {},
   "source": [
    "##### Build the Decision Tree Algorithm model on the training data"
   ]
  },
  {
   "cell_type": "code",
   "execution_count": 48,
   "id": "f2b76409-4b8a-44d3-9086-956cd6ca38fc",
   "metadata": {},
   "outputs": [],
   "source": [
    "# import the class\n",
    "from sklearn.tree import DecisionTreeClassifier"
   ]
  },
  {
   "cell_type": "code",
   "execution_count": 49,
   "id": "ff7c07f2-e95e-4066-ab4a-f262a314c226",
   "metadata": {},
   "outputs": [],
   "source": [
    "# create the object\n",
    "dt = DecisionTreeClassifier(random_state=0)"
   ]
  },
  {
   "cell_type": "code",
   "execution_count": 50,
   "id": "fbd67974-a20d-40ab-b9da-6ceb3bccd7c0",
   "metadata": {},
   "outputs": [
    {
     "data": {
      "text/html": [
       "<style>#sk-container-id-1 {color: black;background-color: white;}#sk-container-id-1 pre{padding: 0;}#sk-container-id-1 div.sk-toggleable {background-color: white;}#sk-container-id-1 label.sk-toggleable__label {cursor: pointer;display: block;width: 100%;margin-bottom: 0;padding: 0.3em;box-sizing: border-box;text-align: center;}#sk-container-id-1 label.sk-toggleable__label-arrow:before {content: \"▸\";float: left;margin-right: 0.25em;color: #696969;}#sk-container-id-1 label.sk-toggleable__label-arrow:hover:before {color: black;}#sk-container-id-1 div.sk-estimator:hover label.sk-toggleable__label-arrow:before {color: black;}#sk-container-id-1 div.sk-toggleable__content {max-height: 0;max-width: 0;overflow: hidden;text-align: left;background-color: #f0f8ff;}#sk-container-id-1 div.sk-toggleable__content pre {margin: 0.2em;color: black;border-radius: 0.25em;background-color: #f0f8ff;}#sk-container-id-1 input.sk-toggleable__control:checked~div.sk-toggleable__content {max-height: 200px;max-width: 100%;overflow: auto;}#sk-container-id-1 input.sk-toggleable__control:checked~label.sk-toggleable__label-arrow:before {content: \"▾\";}#sk-container-id-1 div.sk-estimator input.sk-toggleable__control:checked~label.sk-toggleable__label {background-color: #d4ebff;}#sk-container-id-1 div.sk-label input.sk-toggleable__control:checked~label.sk-toggleable__label {background-color: #d4ebff;}#sk-container-id-1 input.sk-hidden--visually {border: 0;clip: rect(1px 1px 1px 1px);clip: rect(1px, 1px, 1px, 1px);height: 1px;margin: -1px;overflow: hidden;padding: 0;position: absolute;width: 1px;}#sk-container-id-1 div.sk-estimator {font-family: monospace;background-color: #f0f8ff;border: 1px dotted black;border-radius: 0.25em;box-sizing: border-box;margin-bottom: 0.5em;}#sk-container-id-1 div.sk-estimator:hover {background-color: #d4ebff;}#sk-container-id-1 div.sk-parallel-item::after {content: \"\";width: 100%;border-bottom: 1px solid gray;flex-grow: 1;}#sk-container-id-1 div.sk-label:hover label.sk-toggleable__label {background-color: #d4ebff;}#sk-container-id-1 div.sk-serial::before {content: \"\";position: absolute;border-left: 1px solid gray;box-sizing: border-box;top: 0;bottom: 0;left: 50%;z-index: 0;}#sk-container-id-1 div.sk-serial {display: flex;flex-direction: column;align-items: center;background-color: white;padding-right: 0.2em;padding-left: 0.2em;position: relative;}#sk-container-id-1 div.sk-item {position: relative;z-index: 1;}#sk-container-id-1 div.sk-parallel {display: flex;align-items: stretch;justify-content: center;background-color: white;position: relative;}#sk-container-id-1 div.sk-item::before, #sk-container-id-1 div.sk-parallel-item::before {content: \"\";position: absolute;border-left: 1px solid gray;box-sizing: border-box;top: 0;bottom: 0;left: 50%;z-index: -1;}#sk-container-id-1 div.sk-parallel-item {display: flex;flex-direction: column;z-index: 1;position: relative;background-color: white;}#sk-container-id-1 div.sk-parallel-item:first-child::after {align-self: flex-end;width: 50%;}#sk-container-id-1 div.sk-parallel-item:last-child::after {align-self: flex-start;width: 50%;}#sk-container-id-1 div.sk-parallel-item:only-child::after {width: 0;}#sk-container-id-1 div.sk-dashed-wrapped {border: 1px dashed gray;margin: 0 0.4em 0.5em 0.4em;box-sizing: border-box;padding-bottom: 0.4em;background-color: white;}#sk-container-id-1 div.sk-label label {font-family: monospace;font-weight: bold;display: inline-block;line-height: 1.2em;}#sk-container-id-1 div.sk-label-container {text-align: center;}#sk-container-id-1 div.sk-container {/* jupyter's `normalize.less` sets `[hidden] { display: none; }` but bootstrap.min.css set `[hidden] { display: none !important; }` so we also need the `!important` here to be able to override the default hidden behavior on the sphinx rendered scikit-learn.org. See: https://github.com/scikit-learn/scikit-learn/issues/21755 */display: inline-block !important;position: relative;}#sk-container-id-1 div.sk-text-repr-fallback {display: none;}</style><div id=\"sk-container-id-1\" class=\"sk-top-container\"><div class=\"sk-text-repr-fallback\"><pre>DecisionTreeClassifier(random_state=0)</pre><b>In a Jupyter environment, please rerun this cell to show the HTML representation or trust the notebook. <br />On GitHub, the HTML representation is unable to render, please try loading this page with nbviewer.org.</b></div><div class=\"sk-container\" hidden><div class=\"sk-item\"><div class=\"sk-estimator sk-toggleable\"><input class=\"sk-toggleable__control sk-hidden--visually\" id=\"sk-estimator-id-1\" type=\"checkbox\" checked><label for=\"sk-estimator-id-1\" class=\"sk-toggleable__label sk-toggleable__label-arrow\">DecisionTreeClassifier</label><div class=\"sk-toggleable__content\"><pre>DecisionTreeClassifier(random_state=0)</pre></div></div></div></div></div>"
      ],
      "text/plain": [
       "DecisionTreeClassifier(random_state=0)"
      ]
     },
     "execution_count": 50,
     "metadata": {},
     "output_type": "execute_result"
    }
   ],
   "source": [
    "# train the algorithm\n",
    "dt.fit(x_train, y_train)"
   ]
  },
  {
   "cell_type": "code",
   "execution_count": 51,
   "id": "8bed7bc0-e629-4e7b-99dd-c42e2ee99937",
   "metadata": {},
   "outputs": [],
   "source": [
    "from sklearn.tree import plot_tree"
   ]
  },
  {
   "cell_type": "code",
   "execution_count": 52,
   "id": "f57c1334-9c1b-4fe8-b690-f3016204280b",
   "metadata": {},
   "outputs": [
    {
     "data": {
      "image/png": "[encoded data removed]",
      "text/plain": [
       "<Figure size 1200x800 with 1 Axes>"
      ]
     },
     "metadata": {},
     "output_type": "display_data"
    }
   ],
   "source": [
    "plt.figure(figsize= (12, 8))\n",
    "plot_tree(dt, fontsize=7);    # Decision tree takes only important features and discards rest"
   ]
  },
  {
   "cell_type": "code",
   "execution_count": 53,
   "id": "32290465-8342-4324-9db4-a7e016c8f389",
   "metadata": {},
   "outputs": [
    {
     "data": {
      "image/png": "[encoded data removed]",
      "text/plain": [
       "<Figure size 640x480 with 1 Axes>"
      ]
     },
     "metadata": {},
     "output_type": "display_data"
    }
   ],
   "source": [
    "plot_tree(dt);"
   ]
  },
  {
   "cell_type": "code",
   "execution_count": null,
   "id": "c66dd8ca-9ab5-4614-a14e-d2743cc11579",
   "metadata": {},
   "outputs": [],
   "source": []
  },
  {
   "cell_type": "markdown",
   "id": "787aa011-b2c0-4152-a8df-1876a6a6ef46",
   "metadata": {},
   "source": [
    "#### Performance Evaluation"
   ]
  },
  {
   "cell_type": "code",
   "execution_count": 58,
   "id": "69fe7564-7e8a-46db-aeaa-20064c4984b1",
   "metadata": {},
   "outputs": [],
   "source": [
    "# predict the result on test data\n",
    "y_pred = dt.predict(x_test)"
   ]
  },
  {
   "cell_type": "code",
   "execution_count": 59,
   "id": "4541af6c-b3f0-41a3-b3fc-079372a00148",
   "metadata": {},
   "outputs": [
    {
     "data": {
      "text/plain": [
       "array(['Fake', 'Fake', 'Fake', ..., 'Fake', 'Fake', 'Fake'], dtype=object)"
      ]
     },
     "execution_count": 59,
     "metadata": {},
     "output_type": "execute_result"
    }
   ],
   "source": [
    "# algorithm predicted data\n",
    "y_pred"
   ]
  },
  {
   "cell_type": "code",
   "execution_count": 60,
   "id": "aa16b36d-6fdf-45bc-8db5-ba02c9a25d9e",
   "metadata": {},
   "outputs": [
    {
     "data": {
      "text/plain": [
       "2475"
      ]
     },
     "execution_count": 60,
     "metadata": {},
     "output_type": "execute_result"
    }
   ],
   "source": [
    "len(y_pred)"
   ]
  },
  {
   "cell_type": "code",
   "execution_count": 61,
   "id": "5cf46de8-134b-405d-abbd-cc2f5d542d2e",
   "metadata": {},
   "outputs": [
    {
     "data": {
      "text/plain": [
       "6688    Fake\n",
       "5766    Fake\n",
       "6335    Fake\n",
       "5857    Real\n",
       "7323    Real\n",
       "        ... \n",
       "14      Real\n",
       "5489    Real\n",
       "6953    Fake\n",
       "6780    Fake\n",
       "6727    Fake\n",
       "Name: label, Length: 2475, dtype: object"
      ]
     },
     "execution_count": 61,
     "metadata": {},
     "output_type": "execute_result"
    }
   ],
   "source": [
    "y_test"
   ]
  },
  {
   "cell_type": "code",
   "execution_count": 64,
   "id": "c7abe6c0-637d-4fd0-8e71-e8b881ac60a7",
   "metadata": {},
   "outputs": [],
   "source": [
    "# import the class\n",
    "from sklearn.metrics import ConfusionMatrixDisplay"
   ]
  },
  {
   "cell_type": "code",
   "execution_count": 65,
   "id": "22a1c8a9-0963-421a-8845-3aa556df49a0",
   "metadata": {},
   "outputs": [
    {
     "data": {
      "image/png": "[encoded data removed]",
      "text/plain": [
       "<Figure size 640x480 with 2 Axes>"
      ]
     },
     "metadata": {},
     "output_type": "display_data"
    }
   ],
   "source": [
    "# show the matrix\n",
    "ConfusionMatrixDisplay.from_predictions(y_test, y_pred);"
   ]
  },
  {
   "cell_type": "code",
   "execution_count": 67,
   "id": "a8250034-e000-4ef8-a55b-ddfab2d0f7a8",
   "metadata": {},
   "outputs": [
    {
     "data": {
      "text/plain": [
       "0.9971717171717172"
      ]
     },
     "execution_count": 67,
     "metadata": {},
     "output_type": "execute_result"
    }
   ],
   "source": [
    "(1269 + 1199) / 2475                    # output is the mismatched entries"
   ]
  },
  {
   "cell_type": "code",
   "execution_count": 69,
   "id": "8b9205c4-f98c-4549-a9cd-2a71623a77fa",
   "metadata": {},
   "outputs": [
    {
     "data": {
      "text/plain": [
       "0.9968578161822467"
      ]
     },
     "execution_count": 69,
     "metadata": {},
     "output_type": "execute_result"
    }
   ],
   "source": [
    "# fake class\n",
    "(1269 / 1273)    # recall"
   ]
  },
  {
   "cell_type": "code",
   "execution_count": 71,
   "id": "74f8caaf-c793-415a-91cc-91f357123f21",
   "metadata": {},
   "outputs": [
    {
     "data": {
      "text/plain": [
       "0.997504159733777"
      ]
     },
     "execution_count": 71,
     "metadata": {},
     "output_type": "execute_result"
    }
   ],
   "source": [
    "# Real class\n",
    "1199 / 1202     # total entries / matched entries"
   ]
  },
  {
   "cell_type": "markdown",
   "id": "0deb80b4-8843-4fad-9a48-4c47346ba2dc",
   "metadata": {},
   "source": [
    "#### Prediction on unseen new news"
   ]
  },
  {
   "cell_type": "code",
   "execution_count": 87,
   "id": "0652bb6b-75a0-44ed-8859-c009727d35d7",
   "metadata": {},
   "outputs": [],
   "source": [
    "f = open('sample_news.txt', encoding = 'utf-8')"
   ]
  },
  {
   "cell_type": "code",
   "execution_count": 88,
   "id": "198c764b-f07f-456e-bf0b-18d0354eb335",
   "metadata": {},
   "outputs": [],
   "source": [
    "news = f.readlines()"
   ]
  },
  {
   "cell_type": "code",
   "execution_count": 89,
   "id": "c1d1c8c5-0ac1-4222-bc88-59772f8bd86e",
   "metadata": {
    "scrolled": true
   },
   "outputs": [
    {
     "data": {
      "text/plain": [
       "['\" Donald Trump’s ‘Charity’ Foundation Is About To Be Shut The F**k Down NATIONWIDE Things really aren t looking too great for Donald Trump s charity foundation. With recent developments prohibiting the Trump Foundation from soliciting funds in New York state, it s now looking like a good majority of states may be following suit.The Trump Foundation has also been being looked at by the Attorney General for how it is getting and spending funds, especially after what happen with veterans organizations earlier this year.According to The Daily Beast: To make matters worse for the Trump Foundation, the probe may not be limited to New York: Charity experts and lawyers tell The Daily Beast that the attorneys general of other states may soon get involved in a long, drawn-out process.All major charities are required to register with 41 different states across the nation in order to individually request permission to fundraise. When Trump raised money for veterans, he may have broken the rules in dozens of states. The president of the National Committee for Responsible Philanthropy, Aaron Dorfman, stated: The Trump Foundation would be required to file similar paperwork with the attorneys generals of nearly every other state, and they could all take similar action. It is likely that other states will follow suit and they will be issued cease and desist orders denying them fundraising privileges in other states. That is the most likely next step. This is not good news for Trump who keeps trying to pivot to slamming Hillary Clinton s Clinton Foundation. You know, the one that helps fight AIDS in nations globally.Trump, of course, likes to pretend that he s holier than thou, which might explain why Trump Foundation money was used to buy pictures of, well, himself.And according to Real Clear Politics: From 2011 through 2014, Trump harnessed his eponymous foundation to send at least $286,000 to influential conservative or policy groups, a RealClearPolitics review of the foundation s tax filings found. In many cases, this flow of money corresponded to prime speaking slots or endorsements that aided Trump as he sought to recast himself as a plausible Republican candidate for president. Finding out Trump is a scam artist using a shell charity with his same name really should come as no surprise. Especially to fund his political ambitions of grandeur. However, it will be interesting to see how this story develops as the November election draws nearer.Featured Photo by Scott Olson/Getty Images\"\\n',\n",
       " '\"U.S. environmental agency chief says humans contribute to global warming WASHINGTON (Reuters) - The head of the U.S. Environmental Protection Agency, Scott Pruitt, said on Friday he believes human activity plays a role in global warming, but measuring that contribution with precision is difficult. Speaking to reporters at the White House a day after President Donald Trump said he would withdraw the United States  from the Paris climate accord, Pruitt declined to directly answer questions about whether the president still believed global warming was a hoax, as he had said during the 2016 presidential campaign Pruitt said he had indicated that global warming is occurring, and that “human activity contributes to it in some manner. Measuring with precision, from my perspective, the degree of human contribution is very challenging.” \"\\n',\n",
       " '\" Golden State Warriors Coach Just WRECKED Trump After Attack On One Of His Players On Saturday, the man we re forced to call  President  Trump responded to Golden State Warriors star Stephen Curry s refusal to accept an invitation to the White House by doing the internet equivalent of incoherently screeching  WELL FINE,  YOU RE NOT INVITED ANYWAY. Going to the White House is considered a great honor for a championship team.Stephen Curry is hesitating,therefore invitation is withdrawn!  Donald J. Trump (@realDonaldTrump) September 23, 2017Unfortunately for Trump, Warriors coach Steve Kerr has Curry s back. The idea of civil discourse with a guy who is tweeting and demeaning people and saying the things he s saying is sort of far-fetched,  Kerr said on Sunday.  Can you picture us really having a civil discourse with him? It was an actual chance to talk to the president,  he said.  After all, he works for us. He s a public servant. He may not be aware of that, but he is a public servant, right? So maybe as NBA champions, as people in a prominent position, we could go in and say,  This is what s bothering us, what can we do about this?\\'  Then he laid in to Trump for attacking black football players for exercising their First Amendment rights while calling Nazis  very fine people: How about the irony of  Free speech is fine if you re a neo-Nazi chanting hate slogans, but free speech is not allowed to kneel in protest?  No matter how many times a football player says,  I honor our military, but I m protesting police brutality and racial inequality,  it doesn t matter. Nationalists are saying,  You re disrespecting our flag.  Well, you know what else is disrespectful to our flag? Racism. And one s way worse than the other. Trump is a constant embarrassment to our country.Watch Kerr rip him apart below:Featured image via video screen capture\"\\n']"
      ]
     },
     "execution_count": 89,
     "metadata": {},
     "output_type": "execute_result"
    }
   ],
   "source": [
    "news"
   ]
  },
  {
   "cell_type": "code",
   "execution_count": 90,
   "id": "4116971d-8611-4ecf-9946-48973729d729",
   "metadata": {},
   "outputs": [
    {
     "data": {
      "text/plain": [
       "<3x33562 sparse matrix of type '<class 'numpy.float64'>'\n",
       "\twith 325 stored elements in Compressed Sparse Row format>"
      ]
     },
     "execution_count": 90,
     "metadata": {},
     "output_type": "execute_result"
    }
   ],
   "source": [
    "tfidf.transform(news)"
   ]
  },
  {
   "cell_type": "code",
   "execution_count": 93,
   "id": "906d80c2-fad5-4862-a81c-ca081f7bd20f",
   "metadata": {},
   "outputs": [
    {
     "data": {
      "text/plain": [
       "array(['Fake', 'Real', 'Fake'], dtype=object)"
      ]
     },
     "execution_count": 93,
     "metadata": {},
     "output_type": "execute_result"
    }
   ],
   "source": [
    "dt.predict(tfidf.transform(news))"
   ]
  },
  {
   "cell_type": "code",
   "execution_count": 94,
   "id": "9654800f-bca6-41be-aee9-badd3dce7bca",
   "metadata": {},
   "outputs": [
    {
     "data": {
      "text/plain": [
       "3"
      ]
     },
     "execution_count": 94,
     "metadata": {},
     "output_type": "execute_result"
    }
   ],
   "source": [
    "len(news)"
   ]
  },
  {
   "cell_type": "code",
   "execution_count": null,
   "id": "8d2dea59-a4cb-445b-b8ef-70db15b9f2d9",
   "metadata": {},
   "outputs": [],
   "source": []
  }
 ],
 "metadata": {
  "kernelspec": {
   "display_name": "Python 3 (ipykernel)",
   "language": "python",
   "name": "python3"
  },
  "language_info": {
   "codemirror_mode": {
    "name": "ipython",
    "version": 3
   },
   "file_extension": ".py",
   "mimetype": "text/x-python",
   "name": "python",
   "nbconvert_exporter": "python",
   "pygments_lexer": "ipython3",
   "version": "3.11.7"
  }
 },
 "nbformat": 4,
 "nbformat_minor": 5
}
